{
  "nbformat": 4,
  "nbformat_minor": 0,
  "metadata": {
    "colab": {
      "name": "Prediction of Wine Quality.ipynb",
      "provenance": [],
      "collapsed_sections": []
    },
    "kernelspec": {
      "name": "python3",
      "display_name": "Python 3"
    },
    "language_info": {
      "name": "python"
    }
  },
  "cells": [
    {
      "cell_type": "markdown",
      "metadata": {
        "id": "fSPQE2jn5Vjw"
      },
      "source": [
        "Importing the Dependencies"
      ]
    },
    {
      "cell_type": "code",
      "metadata": {
        "id": "0PU9tsc940cE"
      },
      "source": [
        "import numpy as np\n",
        "import pandas as pd\n",
        "import matplotlib.pyplot as plt\n",
        "import seaborn as sns\n",
        "from sklearn.model_selection import train_test_split\n",
        "from sklearn.ensemble import RandomForestClassifier\n",
        "from sklearn.linear_model import LogisticRegression  \n",
        "from sklearn.metrics import accuracy_score\n",
        "from sklearn.metrics import recall_score\n",
        "from sklearn.metrics import precision_score\n",
        "from sklearn.metrics import confusion_matrix\n",
        "from sklearn.metrics import mean_absolute_error"
      ],
      "execution_count": null,
      "outputs": []
    },
    {
      "cell_type": "markdown",
      "metadata": {
        "id": "34p06uBFF_x3"
      },
      "source": [
        "Data Collection"
      ]
    },
    {
      "cell_type": "code",
      "metadata": {
        "id": "aa1xQwcNEj26"
      },
      "source": [
        "# loading the dataset to a Pandas DataFrame\n",
        "wine_dataset = pd.read_csv('/content/winequality.csv')"
      ],
      "execution_count": null,
      "outputs": []
    },
    {
      "cell_type": "code",
      "metadata": {
        "colab": {
          "base_uri": "https://localhost:8080/"
        },
        "id": "l7dHNVq9FcdE",
        "outputId": "e3b1fc1b-74a2-49e7-8526-0e3dbce81998"
      },
      "source": [
        "# number of rows & columns in the dataset\n",
        "wine_dataset.shape"
      ],
      "execution_count": null,
      "outputs": [
        {
          "output_type": "execute_result",
          "data": {
            "text/plain": [
              "(150, 12)"
            ]
          },
          "metadata": {},
          "execution_count": 9
        }
      ]
    },
    {
      "cell_type": "code",
      "metadata": {
        "colab": {
          "base_uri": "https://localhost:8080/",
          "height": 203
        },
        "id": "y2EGHWUpFeoh",
        "outputId": "9d032a70-3560-4289-9ccf-a335d827e746"
      },
      "source": [
        "# first 5 rows of the dataset\n",
        "wine_dataset.head()"
      ],
      "execution_count": null,
      "outputs": [
        {
          "output_type": "execute_result",
          "data": {
            "text/html": [
              "<div>\n",
              "<style scoped>\n",
              "    .dataframe tbody tr th:only-of-type {\n",
              "        vertical-align: middle;\n",
              "    }\n",
              "\n",
              "    .dataframe tbody tr th {\n",
              "        vertical-align: top;\n",
              "    }\n",
              "\n",
              "    .dataframe thead th {\n",
              "        text-align: right;\n",
              "    }\n",
              "</style>\n",
              "<table border=\"1\" class=\"dataframe\">\n",
              "  <thead>\n",
              "    <tr style=\"text-align: right;\">\n",
              "      <th></th>\n",
              "      <th>fa</th>\n",
              "      <th>vc</th>\n",
              "      <th>ca</th>\n",
              "      <th>rs</th>\n",
              "      <th>ch</th>\n",
              "      <th>fsd</th>\n",
              "      <th>tsd</th>\n",
              "      <th>den</th>\n",
              "      <th>pH</th>\n",
              "      <th>sul</th>\n",
              "      <th>alch</th>\n",
              "      <th>qua</th>\n",
              "    </tr>\n",
              "  </thead>\n",
              "  <tbody>\n",
              "    <tr>\n",
              "      <th>0</th>\n",
              "      <td>7.4</td>\n",
              "      <td>0.70</td>\n",
              "      <td>0.00</td>\n",
              "      <td>1.9</td>\n",
              "      <td>0.076</td>\n",
              "      <td>11</td>\n",
              "      <td>34</td>\n",
              "      <td>0.9978</td>\n",
              "      <td>3.51</td>\n",
              "      <td>0.56</td>\n",
              "      <td>9.4</td>\n",
              "      <td>5</td>\n",
              "    </tr>\n",
              "    <tr>\n",
              "      <th>1</th>\n",
              "      <td>7.8</td>\n",
              "      <td>0.88</td>\n",
              "      <td>0.00</td>\n",
              "      <td>2.6</td>\n",
              "      <td>0.098</td>\n",
              "      <td>25</td>\n",
              "      <td>67</td>\n",
              "      <td>0.9968</td>\n",
              "      <td>3.20</td>\n",
              "      <td>0.68</td>\n",
              "      <td>9.8</td>\n",
              "      <td>5</td>\n",
              "    </tr>\n",
              "    <tr>\n",
              "      <th>2</th>\n",
              "      <td>7.8</td>\n",
              "      <td>0.76</td>\n",
              "      <td>0.04</td>\n",
              "      <td>2.3</td>\n",
              "      <td>0.092</td>\n",
              "      <td>15</td>\n",
              "      <td>54</td>\n",
              "      <td>0.9970</td>\n",
              "      <td>3.26</td>\n",
              "      <td>0.65</td>\n",
              "      <td>9.8</td>\n",
              "      <td>5</td>\n",
              "    </tr>\n",
              "    <tr>\n",
              "      <th>3</th>\n",
              "      <td>11.2</td>\n",
              "      <td>0.28</td>\n",
              "      <td>0.56</td>\n",
              "      <td>1.9</td>\n",
              "      <td>0.075</td>\n",
              "      <td>17</td>\n",
              "      <td>60</td>\n",
              "      <td>0.9980</td>\n",
              "      <td>3.16</td>\n",
              "      <td>0.58</td>\n",
              "      <td>9.8</td>\n",
              "      <td>6</td>\n",
              "    </tr>\n",
              "    <tr>\n",
              "      <th>4</th>\n",
              "      <td>7.4</td>\n",
              "      <td>0.70</td>\n",
              "      <td>0.00</td>\n",
              "      <td>1.9</td>\n",
              "      <td>0.076</td>\n",
              "      <td>11</td>\n",
              "      <td>34</td>\n",
              "      <td>0.9978</td>\n",
              "      <td>3.51</td>\n",
              "      <td>0.56</td>\n",
              "      <td>9.4</td>\n",
              "      <td>5</td>\n",
              "    </tr>\n",
              "  </tbody>\n",
              "</table>\n",
              "</div>"
            ],
            "text/plain": [
              "     fa    vc    ca   rs     ch  fsd  tsd     den    pH   sul  alch  qua\n",
              "0   7.4  0.70  0.00  1.9  0.076   11   34  0.9978  3.51  0.56   9.4    5\n",
              "1   7.8  0.88  0.00  2.6  0.098   25   67  0.9968  3.20  0.68   9.8    5\n",
              "2   7.8  0.76  0.04  2.3  0.092   15   54  0.9970  3.26  0.65   9.8    5\n",
              "3  11.2  0.28  0.56  1.9  0.075   17   60  0.9980  3.16  0.58   9.8    6\n",
              "4   7.4  0.70  0.00  1.9  0.076   11   34  0.9978  3.51  0.56   9.4    5"
            ]
          },
          "metadata": {},
          "execution_count": 10
        }
      ]
    },
    {
      "cell_type": "code",
      "metadata": {
        "colab": {
          "base_uri": "https://localhost:8080/"
        },
        "id": "IiX557CKFiZU",
        "outputId": "1c45f3f9-6324-4604-c727-3b2379eb295a"
      },
      "source": [
        "# checking for missing values\n",
        "wine_dataset.isnull().sum()"
      ],
      "execution_count": null,
      "outputs": [
        {
          "output_type": "execute_result",
          "data": {
            "text/plain": [
              "fa      0\n",
              "vc      0\n",
              "ca      0\n",
              "rs      0\n",
              "ch      0\n",
              "fsd     0\n",
              "tsd     0\n",
              "den     0\n",
              "pH      0\n",
              "sul     0\n",
              "alch    0\n",
              "qua     0\n",
              "dtype: int64"
            ]
          },
          "metadata": {},
          "execution_count": 11
        }
      ]
    },
    {
      "cell_type": "markdown",
      "metadata": {
        "id": "Fe_NfuQvF7IO"
      },
      "source": [
        "Data Analysis and Visulaization"
      ]
    },
    {
      "cell_type": "code",
      "metadata": {
        "colab": {
          "base_uri": "https://localhost:8080/",
          "height": 295
        },
        "id": "OkkhheEPFkeg",
        "outputId": "7d938874-8fcc-48a0-bc58-95e090772ebc"
      },
      "source": [
        "# statistical measures of the dataset\n",
        "wine_dataset.describe()"
      ],
      "execution_count": null,
      "outputs": [
        {
          "output_type": "execute_result",
          "data": {
            "text/html": [
              "<div>\n",
              "<style scoped>\n",
              "    .dataframe tbody tr th:only-of-type {\n",
              "        vertical-align: middle;\n",
              "    }\n",
              "\n",
              "    .dataframe tbody tr th {\n",
              "        vertical-align: top;\n",
              "    }\n",
              "\n",
              "    .dataframe thead th {\n",
              "        text-align: right;\n",
              "    }\n",
              "</style>\n",
              "<table border=\"1\" class=\"dataframe\">\n",
              "  <thead>\n",
              "    <tr style=\"text-align: right;\">\n",
              "      <th></th>\n",
              "      <th>fa</th>\n",
              "      <th>vc</th>\n",
              "      <th>ca</th>\n",
              "      <th>rs</th>\n",
              "      <th>ch</th>\n",
              "      <th>fsd</th>\n",
              "      <th>tsd</th>\n",
              "      <th>den</th>\n",
              "      <th>pH</th>\n",
              "      <th>sul</th>\n",
              "      <th>alch</th>\n",
              "      <th>qua</th>\n",
              "    </tr>\n",
              "  </thead>\n",
              "  <tbody>\n",
              "    <tr>\n",
              "      <th>count</th>\n",
              "      <td>150.000000</td>\n",
              "      <td>150.000000</td>\n",
              "      <td>150.000000</td>\n",
              "      <td>150.000000</td>\n",
              "      <td>150.000000</td>\n",
              "      <td>150.00000</td>\n",
              "      <td>150.000000</td>\n",
              "      <td>150.00000</td>\n",
              "      <td>150.000000</td>\n",
              "      <td>150.000000</td>\n",
              "      <td>150.000000</td>\n",
              "      <td>150.000000</td>\n",
              "    </tr>\n",
              "    <tr>\n",
              "      <th>mean</th>\n",
              "      <td>7.604000</td>\n",
              "      <td>0.574833</td>\n",
              "      <td>0.209067</td>\n",
              "      <td>2.306667</td>\n",
              "      <td>0.099320</td>\n",
              "      <td>15.54000</td>\n",
              "      <td>58.640000</td>\n",
              "      <td>0.99662</td>\n",
              "      <td>3.337267</td>\n",
              "      <td>0.687667</td>\n",
              "      <td>9.860667</td>\n",
              "      <td>5.293333</td>\n",
              "    </tr>\n",
              "    <tr>\n",
              "      <th>std</th>\n",
              "      <td>1.054608</td>\n",
              "      <td>0.183552</td>\n",
              "      <td>0.175841</td>\n",
              "      <td>1.141377</td>\n",
              "      <td>0.066494</td>\n",
              "      <td>9.71723</td>\n",
              "      <td>36.606795</td>\n",
              "      <td>0.00122</td>\n",
              "      <td>0.159436</td>\n",
              "      <td>0.263603</td>\n",
              "      <td>0.878291</td>\n",
              "      <td>0.619013</td>\n",
              "    </tr>\n",
              "    <tr>\n",
              "      <th>min</th>\n",
              "      <td>4.600000</td>\n",
              "      <td>0.220000</td>\n",
              "      <td>0.000000</td>\n",
              "      <td>1.200000</td>\n",
              "      <td>0.045000</td>\n",
              "      <td>3.00000</td>\n",
              "      <td>10.000000</td>\n",
              "      <td>0.99160</td>\n",
              "      <td>2.930000</td>\n",
              "      <td>0.390000</td>\n",
              "      <td>9.000000</td>\n",
              "      <td>4.000000</td>\n",
              "    </tr>\n",
              "    <tr>\n",
              "      <th>25%</th>\n",
              "      <td>7.025000</td>\n",
              "      <td>0.450000</td>\n",
              "      <td>0.070000</td>\n",
              "      <td>1.800000</td>\n",
              "      <td>0.074250</td>\n",
              "      <td>9.00000</td>\n",
              "      <td>29.250000</td>\n",
              "      <td>0.99620</td>\n",
              "      <td>3.230000</td>\n",
              "      <td>0.550000</td>\n",
              "      <td>9.400000</td>\n",
              "      <td>5.000000</td>\n",
              "    </tr>\n",
              "    <tr>\n",
              "      <th>50%</th>\n",
              "      <td>7.750000</td>\n",
              "      <td>0.560000</td>\n",
              "      <td>0.180000</td>\n",
              "      <td>2.000000</td>\n",
              "      <td>0.082000</td>\n",
              "      <td>13.00000</td>\n",
              "      <td>52.000000</td>\n",
              "      <td>0.99680</td>\n",
              "      <td>3.340000</td>\n",
              "      <td>0.600000</td>\n",
              "      <td>9.500000</td>\n",
              "      <td>5.000000</td>\n",
              "    </tr>\n",
              "    <tr>\n",
              "      <th>75%</th>\n",
              "      <td>8.175000</td>\n",
              "      <td>0.670000</td>\n",
              "      <td>0.300000</td>\n",
              "      <td>2.300000</td>\n",
              "      <td>0.093750</td>\n",
              "      <td>19.00000</td>\n",
              "      <td>84.500000</td>\n",
              "      <td>0.99720</td>\n",
              "      <td>3.420000</td>\n",
              "      <td>0.747500</td>\n",
              "      <td>10.100000</td>\n",
              "      <td>6.000000</td>\n",
              "    </tr>\n",
              "    <tr>\n",
              "      <th>max</th>\n",
              "      <td>11.200000</td>\n",
              "      <td>1.330000</td>\n",
              "      <td>0.700000</td>\n",
              "      <td>10.700000</td>\n",
              "      <td>0.467000</td>\n",
              "      <td>52.00000</td>\n",
              "      <td>153.000000</td>\n",
              "      <td>0.99930</td>\n",
              "      <td>3.900000</td>\n",
              "      <td>1.980000</td>\n",
              "      <td>14.000000</td>\n",
              "      <td>7.000000</td>\n",
              "    </tr>\n",
              "  </tbody>\n",
              "</table>\n",
              "</div>"
            ],
            "text/plain": [
              "               fa          vc          ca  ...         sul        alch         qua\n",
              "count  150.000000  150.000000  150.000000  ...  150.000000  150.000000  150.000000\n",
              "mean     7.604000    0.574833    0.209067  ...    0.687667    9.860667    5.293333\n",
              "std      1.054608    0.183552    0.175841  ...    0.263603    0.878291    0.619013\n",
              "min      4.600000    0.220000    0.000000  ...    0.390000    9.000000    4.000000\n",
              "25%      7.025000    0.450000    0.070000  ...    0.550000    9.400000    5.000000\n",
              "50%      7.750000    0.560000    0.180000  ...    0.600000    9.500000    5.000000\n",
              "75%      8.175000    0.670000    0.300000  ...    0.747500   10.100000    6.000000\n",
              "max     11.200000    1.330000    0.700000  ...    1.980000   14.000000    7.000000\n",
              "\n",
              "[8 rows x 12 columns]"
            ]
          },
          "metadata": {},
          "execution_count": 12
        }
      ]
    },
    {
      "cell_type": "code",
      "metadata": {
        "id": "C_UARcNKB9mK",
        "colab": {
          "base_uri": "https://localhost:8080/",
          "height": 386
        },
        "outputId": "eb1a92ca-a747-4a8a-f759-bf6af6926c2b"
      },
      "source": [
        "# number of values for each quality\n",
        "sns.catplot(x='qua', data = wine_dataset, kind = 'count')"
      ],
      "execution_count": null,
      "outputs": [
        {
          "output_type": "execute_result",
          "data": {
            "text/plain": [
              "<seaborn.axisgrid.FacetGrid at 0x7f77a93f1ed0>"
            ]
          },
          "metadata": {},
          "execution_count": 13
        },
        {
          "output_type": "display_data",
          "data": {
            "image/png": "[encoded data removed]",
            "text/plain": [
              "<Figure size 360x360 with 1 Axes>"
            ]
          },
          "metadata": {
            "needs_background": "light"
          }
        }
      ]
    },
    {
      "cell_type": "code",
      "metadata": {
        "colab": {
          "base_uri": "https://localhost:8080/",
          "height": 352
        },
        "id": "lRdDoN0jCg57",
        "outputId": "9da35acd-327f-451b-bb54-c265c577e297"
      },
      "source": [
        "# volatile acidity as vc vs Quality as qua\n",
        "plot = plt.figure(figsize=(5,5))\n",
        "sns.barplot(x='qua', y = 'vc', data = wine_dataset)"
      ],
      "execution_count": null,
      "outputs": [
        {
          "output_type": "execute_result",
          "data": {
            "text/plain": [
              "<matplotlib.axes._subplots.AxesSubplot at 0x7f77ac878250>"
            ]
          },
          "metadata": {},
          "execution_count": 14
        },
        {
          "output_type": "display_data",
          "data": {
            "image/png": "[encoded data removed]",
            "text/plain": [
              "<Figure size 360x360 with 1 Axes>"
            ]
          },
          "metadata": {
            "needs_background": "light"
          }
        }
      ]
    },
    {
      "cell_type": "code",
      "metadata": {
        "colab": {
          "base_uri": "https://localhost:8080/",
          "height": 352
        },
        "id": "d1Obn2diDPGt",
        "outputId": "722d6abc-5393-4d7a-fac1-18834ed9b983"
      },
      "source": [
        "# citric acid as ca vs Quality as qua\n",
        "plot = plt.figure(figsize=(5,5))\n",
        "sns.barplot(x='qua', y = 'ca', data = wine_dataset)"
      ],
      "execution_count": null,
      "outputs": [
        {
          "output_type": "execute_result",
          "data": {
            "text/plain": [
              "<matplotlib.axes._subplots.AxesSubplot at 0x7f779f05abd0>"
            ]
          },
          "metadata": {},
          "execution_count": 15
        },
        {
          "output_type": "display_data",
          "data": {
            "image/png": "[encoded data removed]",
            "text/plain": [
              "<Figure size 360x360 with 1 Axes>"
            ]
          },
          "metadata": {
            "needs_background": "light"
          }
        }
      ]
    },
    {
      "cell_type": "markdown",
      "metadata": {
        "id": "UfVYIgPyDovo"
      },
      "source": [
        "Correlation"
      ]
    },
    {
      "cell_type": "markdown",
      "metadata": {
        "id": "3DPrTIR-DrFX"
      },
      "source": [
        "1.Positive Correlation\n",
        "\n",
        "2.Negative Correlation"
      ]
    },
    {
      "cell_type": "code",
      "metadata": {
        "id": "oon-Bl8RDbgP"
      },
      "source": [
        "correlation = wine_dataset.corr()"
      ],
      "execution_count": null,
      "outputs": []
    },
    {
      "cell_type": "code",
      "metadata": {
        "colab": {
          "base_uri": "https://localhost:8080/",
          "height": 868
        },
        "id": "YSqziN9yD9hR",
        "outputId": "2a3fc677-2aad-4f05-efc3-109a6b7599e2"
      },
      "source": [
        "# constructing a heatmap to understand the correlation between the columns\n",
        "plt.figure(figsize=(15,15))\n",
        "sns.heatmap(correlation, cbar=True, square=True, fmt = '.1f', annot = True, annot_kws={'size':10}, cmap = 'gray')"
      ],
      "execution_count": null,
      "outputs": [
        {
          "output_type": "execute_result",
          "data": {
            "text/plain": [
              "<matplotlib.axes._subplots.AxesSubplot at 0x7f779eb02e10>"
            ]
          },
          "metadata": {},
          "execution_count": 18
        },
        {
          "output_type": "display_data",
          "data": {
            "image/png": "[encoded data removed]",
            "text/plain": [
              "<Figure size 1080x1080 with 2 Axes>"
            ]
          },
          "metadata": {
            "needs_background": "light"
          }
        }
      ]
    },
    {
      "cell_type": "markdown",
      "metadata": {
        "id": "ygCSz9S_FLDt"
      },
      "source": [
        "Data Preprocessing"
      ]
    },
    {
      "cell_type": "code",
      "metadata": {
        "id": "1sPAu3hLEkZy"
      },
      "source": [
        "# separate the data and Label\n",
        "X = wine_dataset.drop('qua',axis=1)"
      ],
      "execution_count": null,
      "outputs": []
    },
    {
      "cell_type": "code",
      "metadata": {
        "colab": {
          "base_uri": "https://localhost:8080/"
        },
        "id": "cCEs0LT8Fkmh",
        "outputId": "10afbb34-8dd1-42da-bb44-db7cfe837ea8"
      },
      "source": [
        "print(X)"
      ],
      "execution_count": null,
      "outputs": [
        {
          "output_type": "stream",
          "name": "stdout",
          "text": [
            "       fa    vc    ca   rs     ch  fsd  tsd     den    pH   sul  alch\n",
            "0     7.4  0.70  0.00  1.9  0.076   11   34  0.9978  3.51  0.56   9.4\n",
            "1     7.8  0.88  0.00  2.6  0.098   25   67  0.9968  3.20  0.68   9.8\n",
            "2     7.8  0.76  0.04  2.3  0.092   15   54  0.9970  3.26  0.65   9.8\n",
            "3    11.2  0.28  0.56  1.9  0.075   17   60  0.9980  3.16  0.58   9.8\n",
            "4     7.4  0.70  0.00  1.9  0.076   11   34  0.9978  3.51  0.56   9.4\n",
            "..    ...   ...   ...  ...    ...  ...  ...     ...   ...   ...   ...\n",
            "145   8.1  0.67  0.55  1.8  0.117   32  141  0.9968  3.17  0.62   9.4\n",
            "146   5.8  0.68  0.02  1.8  0.087   21   94  0.9944  3.54  0.52  10.0\n",
            "147   7.6  0.49  0.26  1.6  0.236   10   88  0.9968  3.11  0.80   9.3\n",
            "148   6.9  0.49  0.10  2.3  0.074   12   30  0.9959  3.42  0.58  10.2\n",
            "149   8.2  0.40  0.44  2.8  0.089   11   43  0.9975  3.53  0.61  10.5\n",
            "\n",
            "[150 rows x 11 columns]\n"
          ]
        }
      ]
    },
    {
      "cell_type": "markdown",
      "metadata": {
        "id": "GeHM9HWQFx61"
      },
      "source": [
        "Label Binarizaton"
      ]
    },
    {
      "cell_type": "code",
      "metadata": {
        "id": "Ei805AVjFoVm"
      },
      "source": [
        "Y = wine_dataset['qua'].apply(lambda y_value: 1 if y_value>=6 else 0)"
      ],
      "execution_count": null,
      "outputs": []
    },
    {
      "cell_type": "code",
      "metadata": {
        "colab": {
          "base_uri": "https://localhost:8080/"
        },
        "id": "LDsZC8z4GVDu",
        "outputId": "60b26087-0710-4ccb-814a-032587e8dfdc"
      },
      "source": [
        "print(Y)"
      ],
      "execution_count": null,
      "outputs": [
        {
          "output_type": "stream",
          "name": "stdout",
          "text": [
            "0      0\n",
            "1      0\n",
            "2      0\n",
            "3      1\n",
            "4      0\n",
            "      ..\n",
            "145    0\n",
            "146    0\n",
            "147    0\n",
            "148    1\n",
            "149    1\n",
            "Name: qua, Length: 150, dtype: int64\n"
          ]
        }
      ]
    },
    {
      "cell_type": "markdown",
      "metadata": {
        "id": "8Ra2pT8OGuBV"
      },
      "source": [
        "Train & Test Split"
      ]
    },
    {
      "cell_type": "code",
      "metadata": {
        "id": "yXT1e_7_GXKo"
      },
      "source": [
        "X_train, X_test, Y_train, Y_test = train_test_split(X, Y, test_size=0.2, random_state=3)"
      ],
      "execution_count": null,
      "outputs": []
    },
    {
      "cell_type": "code",
      "metadata": {
        "colab": {
          "base_uri": "https://localhost:8080/"
        },
        "id": "34U8E99hHfsy",
        "outputId": "02753c15-8d18-44f1-e304-ca1efa2d3f12"
      },
      "source": [
        "print(Y.shape, Y_train.shape, Y_test.shape)"
      ],
      "execution_count": null,
      "outputs": [
        {
          "output_type": "stream",
          "name": "stdout",
          "text": [
            "(150,) (120,) (30,)\n"
          ]
        }
      ]
    },
    {
      "cell_type": "markdown",
      "metadata": {
        "id": "8PNBaJn1HrPa"
      },
      "source": [
        "Model Training :\n",
        "\n",
        "Random Forest Classifier"
      ]
    },
    {
      "cell_type": "code",
      "metadata": {
        "id": "JZM3iMHNHibq"
      },
      "source": [
        "model = RandomForestClassifier()"
      ],
      "execution_count": null,
      "outputs": []
    },
    {
      "cell_type": "code",
      "metadata": {
        "colab": {
          "base_uri": "https://localhost:8080/"
        },
        "id": "sY2aIMXHHt9j",
        "outputId": "a5c3c5ba-7961-4497-9aaa-5674b3fa6aa9"
      },
      "source": [
        "model.fit(X_train, Y_train)"
      ],
      "execution_count": null,
      "outputs": [
        {
          "output_type": "execute_result",
          "data": {
            "text/plain": [
              "RandomForestClassifier(bootstrap=True, ccp_alpha=0.0, class_weight=None,\n",
              "                       criterion='gini', max_depth=None, max_features='auto',\n",
              "                       max_leaf_nodes=None, max_samples=None,\n",
              "                       min_impurity_decrease=0.0, min_impurity_split=None,\n",
              "                       min_samples_leaf=1, min_samples_split=2,\n",
              "                       min_weight_fraction_leaf=0.0, n_estimators=100,\n",
              "                       n_jobs=None, oob_score=False, random_state=None,\n",
              "                       verbose=0, warm_start=False)"
            ]
          },
          "metadata": {},
          "execution_count": 25
        }
      ]
    },
    {
      "cell_type": "markdown",
      "metadata": {
        "id": "3Vpr9TyEIZIL"
      },
      "source": [
        "Model Evaluation"
      ]
    },
    {
      "cell_type": "markdown",
      "metadata": {
        "id": "l2WzdIIjIamc"
      },
      "source": [
        "Accuracy Score"
      ]
    },
    {
      "cell_type": "code",
      "metadata": {
        "id": "_bhJD5kdITFB"
      },
      "source": [
        "# accuracy on test data\n",
        "X_test_prediction = model.predict(X_test)\n",
        "test_data_accuracy = accuracy_score(X_test_prediction, Y_test)"
      ],
      "execution_count": null,
      "outputs": []
    },
    {
      "cell_type": "code",
      "metadata": {
        "colab": {
          "base_uri": "https://localhost:8080/"
        },
        "id": "SvbT4t2zIhJe",
        "outputId": "a28e0c9f-e483-486d-b48d-8acd6757f79e"
      },
      "source": [
        "print('Accuracy : ', test_data_accuracy)"
      ],
      "execution_count": null,
      "outputs": [
        {
          "output_type": "stream",
          "name": "stdout",
          "text": [
            "Accuracy :  0.8333333333333334\n"
          ]
        }
      ]
    },
    {
      "cell_type": "markdown",
      "metadata": {
        "id": "VT4x5-kNNSRR"
      },
      "source": [
        "Recall Score"
      ]
    },
    {
      "cell_type": "code",
      "metadata": {
        "id": "bpJeju3yMtoX"
      },
      "source": [
        "# recall on test data\n",
        "X_test_prediction = model.predict(X_test)\n",
        "test_data_recall = recall_score(X_test_prediction, Y_test)"
      ],
      "execution_count": null,
      "outputs": []
    },
    {
      "cell_type": "code",
      "metadata": {
        "colab": {
          "base_uri": "https://localhost:8080/"
        },
        "id": "yWgMkfSPNIUR",
        "outputId": "ac40d664-bcdc-43d3-f12e-848b12377feb"
      },
      "source": [
        "print('Recall : ', test_data_recall)"
      ],
      "execution_count": null,
      "outputs": [
        {
          "output_type": "stream",
          "name": "stdout",
          "text": [
            "Recall :  0.75\n"
          ]
        }
      ]
    },
    {
      "cell_type": "markdown",
      "metadata": {
        "id": "Ww_iZ5EgNXWb"
      },
      "source": [
        "Precision Score"
      ]
    },
    {
      "cell_type": "code",
      "metadata": {
        "id": "-5MKhuokNdma"
      },
      "source": [
        "# precision on test data\n",
        "X_test_prediction = model.predict(X_test)\n",
        "test_data_precision = precision_score(X_test_prediction, Y_test)"
      ],
      "execution_count": null,
      "outputs": []
    },
    {
      "cell_type": "code",
      "metadata": {
        "colab": {
          "base_uri": "https://localhost:8080/"
        },
        "id": "XKt_WBHzN0U1",
        "outputId": "dd272d9b-ca1c-4ccb-f42f-1a6cf8f4131a"
      },
      "source": [
        "print('Precision : ', test_data_precision)"
      ],
      "execution_count": null,
      "outputs": [
        {
          "output_type": "stream",
          "name": "stdout",
          "text": [
            "Precision :  0.42857142857142855\n"
          ]
        }
      ]
    },
    {
      "cell_type": "markdown",
      "metadata": {
        "id": "MzpzcWsQoQE-"
      },
      "source": [
        "Confusion Matrix"
      ]
    },
    {
      "cell_type": "code",
      "metadata": {
        "id": "cKPF0XhMnEsT"
      },
      "source": [
        "# Confusion Matrix on test data\n",
        "X_test_prediction = model.predict(X_test)\n",
        "test_data_confusion_matrix = confusion_matrix(X_test_prediction, Y_test)"
      ],
      "execution_count": null,
      "outputs": []
    },
    {
      "cell_type": "code",
      "metadata": {
        "colab": {
          "base_uri": "https://localhost:8080/"
        },
        "id": "jvf-adPunN7I",
        "outputId": "65e0a774-91aa-4c2c-e076-27ac74db342e"
      },
      "source": [
        "print('Confusion Matrix : ', \n",
        "      test_data_confusion_matrix)"
      ],
      "execution_count": null,
      "outputs": [
        {
          "output_type": "stream",
          "name": "stdout",
          "text": [
            "Confusion Matrix :  [[22  4]\n",
            " [ 1  3]]\n"
          ]
        }
      ]
    },
    {
      "cell_type": "markdown",
      "metadata": {
        "id": "2oUatkqwGofE"
      },
      "source": [
        "Mean Absolute Error"
      ]
    },
    {
      "cell_type": "code",
      "metadata": {
        "id": "cCK2yP6_Gn3q"
      },
      "source": [
        "X_test_prediction = model.predict(X_test)\n",
        "test_data_mean_absolute_error = mean_absolute_error(X_test_prediction, Y_test)"
      ],
      "execution_count": null,
      "outputs": []
    },
    {
      "cell_type": "code",
      "metadata": {
        "colab": {
          "base_uri": "https://localhost:8080/"
        },
        "id": "PStNFlExHvBI",
        "outputId": "6dd6876b-9002-45e6-e36d-0b38b2a3670a"
      },
      "source": [
        "print('Mean Absolute Error : ', \n",
        "      test_data_mean_absolute_error)"
      ],
      "execution_count": null,
      "outputs": [
        {
          "output_type": "stream",
          "name": "stdout",
          "text": [
            "Mean Absolute Error :  0.16666666666666666\n"
          ]
        }
      ]
    },
    {
      "cell_type": "markdown",
      "metadata": {
        "id": "0hBJ4ri1SUIU"
      },
      "source": [
        "Model Training :\n",
        "\n",
        "Logistic Regression"
      ]
    },
    {
      "cell_type": "code",
      "metadata": {
        "id": "c_bMFVTrSaOY"
      },
      "source": [
        "model = LogisticRegression()"
      ],
      "execution_count": null,
      "outputs": []
    },
    {
      "cell_type": "code",
      "metadata": {
        "colab": {
          "base_uri": "https://localhost:8080/"
        },
        "id": "Sm00--ksamsz",
        "outputId": "9faf8879-7e69-4075-d1d0-b2ceb3c63fc2"
      },
      "source": [
        "model.fit(X_train, Y_train)"
      ],
      "execution_count": null,
      "outputs": [
        {
          "output_type": "stream",
          "name": "stderr",
          "text": [
            "/usr/local/lib/python3.7/dist-packages/sklearn/linear_model/_logistic.py:940: ConvergenceWarning: lbfgs failed to converge (status=1):\n",
            "STOP: TOTAL NO. of ITERATIONS REACHED LIMIT.\n",
            "\n",
            "Increase the number of iterations (max_iter) or scale the data as shown in:\n",
            "    https://scikit-learn.org/stable/modules/preprocessing.html\n",
            "Please also refer to the documentation for alternative solver options:\n",
            "    https://scikit-learn.org/stable/modules/linear_model.html#logistic-regression\n",
            "  extra_warning_msg=_LOGISTIC_SOLVER_CONVERGENCE_MSG)\n"
          ]
        },
        {
          "output_type": "execute_result",
          "data": {
            "text/plain": [
              "LogisticRegression(C=1.0, class_weight=None, dual=False, fit_intercept=True,\n",
              "                   intercept_scaling=1, l1_ratio=None, max_iter=100,\n",
              "                   multi_class='auto', n_jobs=None, penalty='l2',\n",
              "                   random_state=None, solver='lbfgs', tol=0.0001, verbose=0,\n",
              "                   warm_start=False)"
            ]
          },
          "metadata": {},
          "execution_count": 37
        }
      ]
    },
    {
      "cell_type": "markdown",
      "metadata": {
        "id": "dFgKOzd1bvn_"
      },
      "source": [
        "Model Evaluation"
      ]
    },
    {
      "cell_type": "markdown",
      "metadata": {
        "id": "X4hXiJ4Ab2AU"
      },
      "source": [
        "Accuracy Score"
      ]
    },
    {
      "cell_type": "code",
      "metadata": {
        "id": "Bt4zygGGb22p"
      },
      "source": [
        "# accuracy on test data\n",
        "X_test_prediction = model.predict(X_test)\n",
        "test_data_accuracy = accuracy_score(X_test_prediction, Y_test)"
      ],
      "execution_count": null,
      "outputs": []
    },
    {
      "cell_type": "code",
      "metadata": {
        "colab": {
          "base_uri": "https://localhost:8080/"
        },
        "id": "SaoVmABmcK81",
        "outputId": "abff8a35-2f57-4d59-97ba-1e04c269403b"
      },
      "source": [
        "print('Accuracy : ', test_data_accuracy)"
      ],
      "execution_count": null,
      "outputs": [
        {
          "output_type": "stream",
          "name": "stdout",
          "text": [
            "Accuracy :  0.7666666666666667\n"
          ]
        }
      ]
    },
    {
      "cell_type": "markdown",
      "metadata": {
        "id": "QjuQ8RUTcin5"
      },
      "source": [
        "Recall Score"
      ]
    },
    {
      "cell_type": "code",
      "metadata": {
        "id": "1SiTCJO2ckaz"
      },
      "source": [
        "# recall on test data\n",
        "X_test_prediction = model.predict(X_test)\n",
        "test_data_recall = recall_score(X_test_prediction, Y_test)"
      ],
      "execution_count": null,
      "outputs": []
    },
    {
      "cell_type": "code",
      "metadata": {
        "colab": {
          "base_uri": "https://localhost:8080/"
        },
        "id": "bSN737ypco6c",
        "outputId": "d91db44d-b96c-41e6-9898-7d7a74bb5e06"
      },
      "source": [
        "print('Recall : ', test_data_recall)"
      ],
      "execution_count": null,
      "outputs": [
        {
          "output_type": "stream",
          "name": "stdout",
          "text": [
            "Recall :  0.5\n"
          ]
        }
      ]
    },
    {
      "cell_type": "markdown",
      "metadata": {
        "id": "h9Ef0c-9cy32"
      },
      "source": [
        "Precision Score"
      ]
    },
    {
      "cell_type": "code",
      "metadata": {
        "id": "08FogakWc0Au"
      },
      "source": [
        "# precision on test data\n",
        "X_test_prediction = model.predict(X_test)\n",
        "test_data_precision = precision_score(X_test_prediction, Y_test)"
      ],
      "execution_count": null,
      "outputs": []
    },
    {
      "cell_type": "code",
      "metadata": {
        "colab": {
          "base_uri": "https://localhost:8080/"
        },
        "id": "MllPiSR4c4Bh",
        "outputId": "b52e1071-81eb-4365-da83-7209d299e20f"
      },
      "source": [
        "print('Precision : ', test_data_precision)"
      ],
      "execution_count": null,
      "outputs": [
        {
          "output_type": "stream",
          "name": "stdout",
          "text": [
            "Precision :  0.42857142857142855\n"
          ]
        }
      ]
    },
    {
      "cell_type": "markdown",
      "metadata": {
        "id": "Bcm4UKgwoyGT"
      },
      "source": [
        "Confusion Matrix"
      ]
    },
    {
      "cell_type": "code",
      "metadata": {
        "id": "Gb_HanfXo0do"
      },
      "source": [
        "# Confusion Matrix on test data\n",
        "X_test_prediction = model.predict(X_test)\n",
        "test_data_confusion_matrix = confusion_matrix(X_test_prediction, Y_test)"
      ],
      "execution_count": null,
      "outputs": []
    },
    {
      "cell_type": "code",
      "metadata": {
        "colab": {
          "base_uri": "https://localhost:8080/"
        },
        "id": "reMwBimHo5tz",
        "outputId": "4b51b351-28d8-4d0c-ddfd-390d6da6eebb"
      },
      "source": [
        "print('Confusion Matrix : ', \n",
        "      test_data_confusion_matrix)"
      ],
      "execution_count": null,
      "outputs": [
        {
          "output_type": "stream",
          "name": "stdout",
          "text": [
            "Confusion Matrix :  [[20  4]\n",
            " [ 3  3]]\n"
          ]
        }
      ]
    },
    {
      "cell_type": "markdown",
      "metadata": {
        "id": "hk2fmIfkJkiN"
      },
      "source": [
        "Mean Absolute Error"
      ]
    },
    {
      "cell_type": "code",
      "metadata": {
        "id": "MbNGhusWJlc0"
      },
      "source": [
        "X_test_prediction = model.predict(X_test)\n",
        "test_data_mean_absolute_error = mean_absolute_error(X_test_prediction, Y_test)"
      ],
      "execution_count": null,
      "outputs": []
    },
    {
      "cell_type": "code",
      "metadata": {
        "colab": {
          "base_uri": "https://localhost:8080/"
        },
        "id": "VfP7Hq1QJtQs",
        "outputId": "30a5bbd4-42b1-43cf-d9ba-c6bce9e32cae"
      },
      "source": [
        "print('Mean Absolute Error : ', \n",
        "      test_data_mean_absolute_error)"
      ],
      "execution_count": null,
      "outputs": [
        {
          "output_type": "stream",
          "name": "stdout",
          "text": [
            "Mean Absolute Error :  0.23333333333333334\n"
          ]
        }
      ]
    },
    {
      "cell_type": "markdown",
      "metadata": {
        "id": "CP6XBt-aK8lj"
      },
      "source": [
        "Building a Predictive System"
      ]
    },
    {
      "cell_type": "code",
      "metadata": {
        "colab": {
          "base_uri": "https://localhost:8080/"
        },
        "id": "waUwxIceK570",
        "outputId": "b02b2b42-9226-47ec-e1be-17707ce18ff8"
      },
      "source": [
        "input_data = (7.3,0.65,0,1.2,0.065,15,21,0.9946,3.39,0.47,10)\n",
        "\n",
        "\n",
        "input_data_as_numpy_array = np.asarray(input_data)\n",
        "\n",
        "\n",
        "input_data_reshaped = input_data_as_numpy_array.reshape(1,-1)\n",
        "\n",
        "prediction = model.predict(input_data_reshaped)\n",
        "print(prediction)\n",
        "\n",
        "if (prediction[0]==1):\n",
        "  print('Good Quality Wine')\n",
        "else:\n",
        "  print('Bad Quality Wine')"
      ],
      "execution_count": null,
      "outputs": [
        {
          "output_type": "stream",
          "name": "stdout",
          "text": [
            "[1]\n",
            "Good Quality Wine\n"
          ]
        }
      ]
    },
    {
      "cell_type": "code",
      "metadata": {
        "id": "7Qr3Mu8nMCxu"
      },
      "source": [
        ""
      ],
      "execution_count": null,
      "outputs": []
    }
  ]
}